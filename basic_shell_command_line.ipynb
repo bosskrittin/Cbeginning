{
 "cells": [
  {
   "cell_type": "markdown",
   "metadata": {},
   "source": [
    "## Basic Shell Command Line\n",
    "*****"
   ]
  },
  {
   "cell_type": "markdown",
   "metadata": {},
   "source": [
    "BASIC System Command and Build-in Command on ShellCLI\n",
    "```\n",
    "pwd\t\t#print name of current/working directory\n",
    "ls\t\t#list directory contents\n",
    "\n",
    "mkdir\t\t#make directories\n",
    "touch\t\t#change file timestamps(if file name didn't excited the file name would be create)\n",
    "echo\t\t#display a line of text\n",
    "cat\t\t#concatenate files and print on the standard output\n",
    "\n",
    "cp\t\t#copy files and directories\n",
    "mv\t\t#move (rename) files\n",
    "rm\t\t#remove files or directories\n",
    "\n",
    "find\t\t#search for files in a directory hierarchy\n",
    "\n",
    "#  which is used to change directories in a shell environment\n",
    "cd <dir>\t#move into directory.\n",
    "cd \t\t#(with or without a space) changes the directory to the home directory.\n",
    "cd .\t\t#keeps the current directory unchanged.\n",
    "cd ..\t\t#moves up one directory level from the current directory.\n",
    "```\n",
    "*****"
   ]
  },
  {
   "cell_type": "markdown",
   "metadata": {},
   "source": [
    "1) ##### Where we are?\n",
    "2) ##### **LIST** file and directory in here.\n",
    "3) ##### Look at 'man ls' and find \\[*OPTION*\\] to **LIST ALL** (do not ignore entries starting with '.')\n",
    "4) ##### **Make directories** name 'dirA' and 'dirB' in kust one command line.\n",
    "5) ##### **create files** name 'fileC' and 'fileD'\n",
    "6) ##### **COPY** 'fileC' send into 'dirA/'\n",
    "7) ##### **move into** 'dirA' and see inside for checked, Is 'fileC' inside?\n",
    "8) ##### **move outside** 'dirA'.\n",
    "9) ##### **MOVE FILE** 'fileD' into 'dirB' and **RENAME** 'fileD' to 'fileDD'\n",
    "10) ##### **move outside** 'dirB' and try to **REMOVE** 'dirB', What's happening?\n",
    "11) ##### **FIND** 'fileC' and 'fileDD', see what's happen!\n",
    "12) ##### **REMOVE** both 'fileC' and 'dirA'\n",
    "*****"
   ]
  }
 ],
 "metadata": {
  "language_info": {
   "name": "python"
  }
 },
 "nbformat": 4,
 "nbformat_minor": 2
}
