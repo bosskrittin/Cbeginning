{
 "cells": [
  {
   "cell_type": "markdown",
   "metadata": {},
   "source": [
    "# Basic C languages Lesson00\n",
    "*****"
   ]
  },
  {
   "cell_type": "markdown",
   "metadata": {},
   "source": [
    "## 1) Basic Syntax of C"
   ]
  },
  {
   "cell_type": "markdown",
   "metadata": {},
   "source": [
    "\n",
    "* Preprocessor Directives: \n",
    "```\n",
    "#include <stdio.h> // Include standard input-output library\n",
    "```\n",
    "Preprocessor directives begin with a # symbol. They are processed before the compilation of the code. #include is a common directive used to include header files in the program.\n",
    "\n",
    "* Function Declaration:\n",
    "```\n",
    "int main(void) {\n",
    "    // Function body\n",
    "    return 0;\n",
    "}\n",
    "```\n",
    "The main function is the entry point of a C program. It returns an integer value (int) to the operating system indicating the status of the program execution.\n",
    "\n",
    "* Statements and Expressions: \n",
    "\t```\n",
    "\tprintf(\"Hello World\\n\");\n",
    "\t```\n",
    "\tStatements are individual instructions that make up a program. Expressions are combinations of operators, constants, and variables that evaluate to a value.\n",
    "\t* Variables and Data Types:\n",
    "\t```\n",
    "\tint age = 30;\n",
    "\tfloat height = 6.2;\n",
    "\tchar grade = 'A';\n",
    "\t```\n",
    "\tVariables are used to store data. C supports various data types like integers (int), floating-point numbers (float), characters (char), and more.\n",
    "\t* Control Structures:\n",
    "\t```\n",
    "\t\tif (condition) {\n",
    "\t\t// Code to execute if condition is true\n",
    "\t} else {\n",
    "\t\t// Code to execute if condition is false\n",
    "\t}\n",
    "\t```\n",
    "\t* Loops:\n",
    "\t```\n",
    "\tfor (int i = 0; i < 5; i++) {\n",
    "    printf(\"Iteration %d\\n\", i);\n",
    "\t}\n",
    "\t```\n",
    "\tLoops like for, while, and do-while are used for executing a block of code repeatedly based on certain conditions.\n",
    "* Functions:\n",
    "```\n",
    "int add(int a, int b) {\n",
    "    return a + b;\n",
    "}\n",
    "```\n",
    "Functions are blocks of code that perform a specific task. They can accept parameters and return values.\n",
    "* Comments:\n",
    "```\n",
    "// This is a single-line comment\n",
    "\n",
    "/*\n",
    "This is a\n",
    "multi-line comment\n",
    "*/\n",
    "```\n",
    "Comments are used to document the code. They are ignored by the compiler and serve as notes for developers.\n",
    "* Pointers:\n",
    "```\n",
    "int *ptr;\n",
    "ptr = &variable;\n",
    "```\n",
    "Pointers are variables that store memory addresses. They are widely used in C for dynamic memory allocation and manipulation.\n",
    "* Arrays:\n",
    "```\n",
    "int numbers[5] = {1, 2, 3, 4, 5};\n",
    "```\n",
    "Arrays are collections of elements of the same data type. They allow you to store multiple values under a single variable name.\n",
    "\n",
    "Understanding and mastering these basic syntax elements is essential for writing and understanding C programs effectively."
   ]
  },
  {
   "cell_type": "markdown",
   "metadata": {},
   "source": [
    "### Let's see sample of C program \"Hello World!\" [Click HERE](https://replit.com/join/dfwptkrcds-65420071)"
   ]
  },
  {
   "cell_type": "markdown",
   "metadata": {},
   "source": [
    "## 2) Print Character from ASCII table"
   ]
  },
  {
   "cell_type": "markdown",
   "metadata": {},
   "source": [
    "* First time with write() function in C languages.\n",
    "\n",
    "\t* What is write() function [see more](https://www.educative.io/answers/what-is-the-write-function-in-c)\n",
    "\t* You are creating a function to write a character when called upon in the main using - ```void write_char(char c);```\n",
    " any character in the ' ' will be written when the main runs.\n",
    "\t* Practice to use write() function [Click Here!](https://replit.com/join/dfalkewtrf-65420071)"
   ]
  },
  {
   "cell_type": "markdown",
   "metadata": {},
   "source": [
    "* Look at ASCII table and answer the questions.\n",
    "\n",
    "![ASCII table](https://upload.wikimedia.org/wikipedia/commons/thumb/1/1b/ASCII-Table-wide.svg/800px-ASCII-Table-wide.svg.png)"
   ]
  },
  {
   "cell_type": "markdown",
   "metadata": {},
   "source": [
    "* Call write_char() function to print **\"a-z\"** and **\"z-a\"**"
   ]
  },
  {
   "cell_type": "markdown",
   "metadata": {},
   "source": [
    "* Call write_char() function to print **\"0-9\"**"
   ]
  },
  {
   "cell_type": "markdown",
   "metadata": {},
   "source": [
    "* write ```void p_and_n(int n);``` Print ’N’ or ’P’ - Depending on the Integer’s Sign Entered as a Parameter."
   ]
  },
  {
   "cell_type": "markdown",
   "metadata": {},
   "source": [
    "* write ```void member_code(void);``` Combine Numbers Into Different Double Combinations **000, 001, 002, ..., 999**"
   ]
  }
 ],
 "metadata": {
  "language_info": {
   "name": "python"
  }
 },
 "nbformat": 4,
 "nbformat_minor": 2
}
